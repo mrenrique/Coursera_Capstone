
# This is the project of the week 01

Here I just create a new repository and add a file with some code.

import pandas as pd
import numpy as np

print("Hello Capstone Project Course!")
